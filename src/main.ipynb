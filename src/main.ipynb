{
 "cells": [
  {
   "cell_type": "markdown",
   "metadata": {},
   "source": [
    "# Active Brownian Particles\n"
   ]
  },
  {
   "cell_type": "code",
   "execution_count": 1,
   "metadata": {},
   "outputs": [
    {
     "name": "stdout",
     "output_type": "stream",
     "text": [
      "\u001b[33mDEPRECATION: Configuring installation scheme with distutils config files is deprecated and will no longer work in the near future. If you are using a Homebrew or Linuxbrew Python, please see discussion at https://github.com/Homebrew/homebrew-core/issues/76621\u001b[0m\u001b[33m\n",
      "\u001b[0mRequirement already satisfied: matplotlib in /opt/homebrew/lib/python3.9/site-packages (3.5.1)\n",
      "Requirement already satisfied: numpy in /opt/homebrew/lib/python3.9/site-packages (1.22.2)\n",
      "Requirement already satisfied: pybind11 in /opt/homebrew/lib/python3.9/site-packages (2.9.1)\n",
      "Requirement already satisfied: cycler>=0.10 in /opt/homebrew/lib/python3.9/site-packages (from matplotlib) (0.11.0)\n",
      "Requirement already satisfied: fonttools>=4.22.0 in /opt/homebrew/lib/python3.9/site-packages (from matplotlib) (4.29.1)\n",
      "Requirement already satisfied: pyparsing>=2.2.1 in /opt/homebrew/lib/python3.9/site-packages (from matplotlib) (3.0.7)\n",
      "Requirement already satisfied: python-dateutil>=2.7 in /opt/homebrew/lib/python3.9/site-packages (from matplotlib) (2.8.2)\n",
      "Requirement already satisfied: kiwisolver>=1.0.1 in /opt/homebrew/lib/python3.9/site-packages (from matplotlib) (1.3.2)\n",
      "Requirement already satisfied: packaging>=20.0 in /opt/homebrew/lib/python3.9/site-packages (from matplotlib) (21.3)\n",
      "Requirement already satisfied: pillow>=6.2.0 in /opt/homebrew/lib/python3.9/site-packages (from matplotlib) (9.0.1)\n",
      "Requirement already satisfied: six>=1.5 in /opt/homebrew/lib/python3.9/site-packages (from python-dateutil>=2.7->matplotlib) (1.16.0)\n",
      "\u001b[33mDEPRECATION: Configuring installation scheme with distutils config files is deprecated and will no longer work in the near future. If you are using a Homebrew or Linuxbrew Python, please see discussion at https://github.com/Homebrew/homebrew-core/issues/76621\u001b[0m\u001b[33m\n",
      "\u001b[0mg++ -O3 -Wall -shared -std=c++11 -undefined dynamic_lookup  $(python3.9 -m pybind11 --includes) functions.cpp pybind.cpp -o abp$(python3.9-config --extension-suffix)\n"
     ]
    }
   ],
   "source": [
    "# Install dependencies\n",
    "!pip3.9 install matplotlib numpy pybind11\n",
    "\n",
    "# Compile the module abp\n",
    "!make\n"
   ]
  },
  {
   "cell_type": "code",
   "execution_count": 2,
   "metadata": {},
   "outputs": [],
   "source": [
    "# Import modules\n",
    "import matplotlib.pyplot as plt\n",
    "import numpy as np\n",
    "import math\n",
    "from abp import ABP_2d, point, region\n"
   ]
  },
  {
   "cell_type": "code",
   "execution_count": 6,
   "metadata": {},
   "outputs": [],
   "source": [
    "# Define trail parameters\n",
    "dt = 0.00001\n",
    "D_r = 1.0\n",
    "k = 1.0\n",
    "L = 1.0\n",
    "mu = 1.0\n",
    "w = 0.0\n",
    "\n",
    "# Numbers\n",
    "pe = 10.0\n",
    "l_star = 100000.0\n",
    "\n",
    "# Other parameters\n",
    "v_max = 8*math.pi*k*mu/L\n",
    "v = pe*v_max\n",
    "D_theta = pe*v_max*v_max/(Dr*l_star)\n",
    "\n",
    "# Define reactant and target region\n",
    "reactant = region(x=0,y=0,radius=L/40.0)\n",
    "target = region(x=L/16,y=L/16,radius=L/40.0)\n",
    "    \n",
    "# Define the active brownian particle\n",
    "num_steps = 10**7\n",
    "particle = ABP_2d(reactant,target, num_steps = 10**7, dt=1e-5, v=pe*v_max, D_r=D_r, D_theta=D_theta, k=k, L=L, mu=mu, w=w)\n",
    "particle.dynamics()\n",
    "\n",
    "\n"
   ]
  },
  {
   "cell_type": "code",
   "execution_count": null,
   "metadata": {},
   "outputs": [],
   "source": [
    "# Convert data in numpy array (exclude last positions and angles)\n",
    "x_dyn= np.array(particle.position_x)\n",
    "y_dyn = np.array(particle.position_y)\n",
    "theta = np.array(particle.theta)[:-1]\n",
    "bool_reactant = np.array(particle.bool_reactant)\n",
    "bool_target = np.array(particle.bool_target)\n",
    "reactive_path = np.array(particle.reactive_path)\n",
    "\n",
    "# Apply mask to select only reactive paths\n",
    "x_dyn = x_dyn[reactive_path]\n",
    "y_dyn = y_dyn[reactive_path]\n"
   ]
  },
  {
   "cell_type": "markdown",
   "metadata": {},
   "source": [
    "## Potential plot"
   ]
  },
  {
   "cell_type": "code",
   "execution_count": null,
   "metadata": {},
   "outputs": [],
   "source": [
    "### Contour plot of potential\n",
    "# Define potential function\n",
    "def potential(x, y):\n",
    "    return k*(np.sin(8*math.pi*(x +3./16.*L)/L) + np.sin(8*math.pi*(y+3./16.*L)/L))\n",
    "\n",
    "# Mesh grid\n",
    "x = np.linspace(-L/8, L/8, 1000)\n",
    "y = np.linspace(-L/8, L/8, 1000)\n",
    "xx, yy = np.meshgrid(x, y)\n",
    "\n",
    "# Potential\n",
    "zz = potential(xx,yy)\n",
    "\n",
    "# Plot\n",
    "cf = plt.contourf(xx,yy, zz, cmap =\"RdBu\")\n",
    "plt.colorbar()\n",
    "\n",
    "# Rendering\n",
    "plt.title(\"Potential\")\n",
    "plt.xlabel(\"x\")\n",
    "plt.ylabel(\"y\")\n",
    "x_ticks = [-L/8, 0, L/8 ]\n",
    "x_labels = [\"- L/8\",\"0\", \"L/8\" ]\n",
    "y_ticks = [0, L/8]\n",
    "y_labels = [\"0\", \"L/8\"]\n",
    "plt.xticks(x_ticks, x_labels)\n",
    "plt.yticks(y_ticks, y_labels)\n",
    "#plt.legend()\n",
    "plt.tight_layout()\n",
    "plt.savefig(\"potential.png\")"
   ]
  },
  {
   "cell_type": "markdown",
   "metadata": {},
   "source": [
    "## Transition probability density"
   ]
  },
  {
   "cell_type": "code",
   "execution_count": null,
   "metadata": {},
   "outputs": [],
   "source": [
    "### Plotting\n",
    "# Contourf and dynamics\n",
    "plt.figure(figsize=(6,6))\n",
    "h = plt.hist2d(x_dyn, y_dyn, bins = 100 ,density = True)\n",
    "plt.colorbar()\n",
    "#plt.plot(x_start, y_start, c = \"blue\", marker = \"o\", ms = 10, ls  = \"\",label = \"Start\" )\n",
    "#plt.plot(x_end, y_end, c = \"red\", marker = \"o\", ms = 10, ls  = \"\",label = \"End\" )\n",
    "\n",
    "# Rendering\n",
    "plt.title(\"Transition probability density\")\n",
    "plt.xlabel(\"x\")\n",
    "plt.ylabel(\"y\")\n",
    "#x_ticks = [-L/8, 0, L/8 ]\n",
    "#x_labels = [\"- L/8\",\"0\", \"L/8\" ]\n",
    "#y_ticks = [0, L/8]\n",
    "#y_labels = [\"0\", \"L/8\"]\n",
    "#plt.xticks(x_ticks, x_labels)\n",
    "#plt.yticks(y_ticks, y_labels)\n",
    "#plt.legend()\n",
    "plt.tight_layout()\n",
    "plt.savefig(\"prob_density.png\")\n"
   ]
  },
  {
   "cell_type": "markdown",
   "metadata": {},
   "source": [
    "## Transition times"
   ]
  },
  {
   "cell_type": "code",
   "execution_count": null,
   "metadata": {},
   "outputs": [],
   "source": [
    "# Masks\n",
    "reactant_dyn = bool_dynamics[:,0]\n",
    "target_dyn = bool_dynamics[:,1]\n",
    "\n",
    "is_inside_reactant = reactant_dyn == 1\n",
    "is_inside_target = target_dyn ==1\n",
    "\n",
    "print(is_inside_reactant)"
   ]
  },
  {
   "cell_type": "code",
   "execution_count": null,
   "metadata": {},
   "outputs": [],
   "source": [
    "# Times outside reactant\n",
    "out_reactant = np.where(reactant_dyn==1)[0]\n",
    "out_reactant = np.array([out_reactant[i]-out_reactant[i-1]-1 for i in range(1,len(out_reactant)) ])\n",
    "out_reactant = out_reactant[out_reactant!=0]\n",
    "\n",
    "\n",
    "# Times inside reactant\n",
    "in_reactant = np.where(reactant_dyn==0)[0]\n",
    "in_reactant = np.array([in_reactant[i]-in_reactant[i-1]-1 for i in range(1,len(in_reactant)) ])\n",
    "in_reactant = in_reactant[in_reactant!=0]\n",
    "in_reactant = in_reactant*dt\n",
    "\n",
    "\n",
    "plt.hist(in_reactant, bins=100)\n"
   ]
  },
  {
   "cell_type": "code",
   "execution_count": null,
   "metadata": {},
   "outputs": [],
   "source": [
    "# Count consecutive 1s in list a \n",
    "\n",
    "def cc_ones(a):\n",
    "    seq = a.copy()\n",
    "    np.append(seq,[0])\n",
    "    ones = []\n",
    "    print(SEQ)\n",
    "    num = a[0]\n",
    "    for next in seq[1:]:\n",
    "        count = 0\n",
    "        if num==1 and next==1:\n",
    "            count += 1\n",
    "        elif num==1 and next==0:\n",
    "            count +=1\n",
    "            ones.append(count)\n",
    "            count = 0\n",
    "        num = next\n",
    "            \n",
    "\n"
   ]
  }
 ],
 "metadata": {
  "interpreter": {
   "hash": "b8848f1b8c3a996ce3b7ef881e6655cac3b73ddfd30d99f07b7112ad3fb1efeb"
  },
  "kernelspec": {
   "display_name": "Python 3 (ipykernel)",
   "language": "python",
   "name": "python3"
  },
  "language_info": {
   "codemirror_mode": {
    "name": "ipython",
    "version": 3
   },
   "file_extension": ".py",
   "mimetype": "text/x-python",
   "name": "python",
   "nbconvert_exporter": "python",
   "pygments_lexer": "ipython3",
   "version": "3.9.10"
  }
 },
 "nbformat": 4,
 "nbformat_minor": 2
}
